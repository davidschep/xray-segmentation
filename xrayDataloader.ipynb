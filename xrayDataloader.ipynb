{
 "cells": [
  {
   "cell_type": "code",
   "execution_count": 80,
   "metadata": {},
   "outputs": [],
   "source": [
    "import pandas as pd \n",
    "from skimage import io, transform\n",
    "import os \n",
    "from torch.utils.data import Dataset, DataLoader\n",
    "from PIL import Image\n",
    "import matplotlib.pyplot as plt\n",
    "import numpy as np\n",
    "import torchvision.transforms as transforms\n"
   ]
  },
  {
   "cell_type": "code",
   "execution_count": 79,
   "metadata": {},
   "outputs": [
    {
     "data": {
      "text/plain": [
       "\"#importing using PIL and ndarray from numpy \\nimport os \\nimport matplotlib.pyplot as plt\\nfrom PIL import Image\\nimport numpy as np\\n\\ndirname = 'C:/Users/adop/OneDrive - Danmarks Tekniske Universitet/Billeder/DL/OneDrive_1_26-10-2023/data'\\nfinal = []\\nfor fname in os.listdir(dirname):\\n    im = Image.open(os.path.join(dirname, fname))\\n    imarray = np.array(im)\\n    final.append(imarray)\\n\\nfinal = np.asarray(final)\\nfinal.shape\""
      ]
     },
     "execution_count": 79,
     "metadata": {},
     "output_type": "execute_result"
    }
   ],
   "source": [
    "\"\"\"#importing using PIL and ndarray from numpy \n",
    "import os \n",
    "import matplotlib.pyplot as plt\n",
    "from PIL import Image\n",
    "import numpy as np\n",
    "\n",
    "dirname = 'C:/Users/adop/OneDrive - Danmarks Tekniske Universitet/Billeder/DL/OneDrive_1_26-10-2023/data'\n",
    "final = []\n",
    "for fname in os.listdir(dirname):\n",
    "    im = Image.open(os.path.join(dirname, fname))\n",
    "    imarray = np.array(im)\n",
    "    final.append(imarray)\n",
    "\n",
    "final = np.asarray(final)\n",
    "final.shape\"\"\"\n"
   ]
  },
  {
   "cell_type": "code",
   "execution_count": 81,
   "metadata": {},
   "outputs": [],
   "source": [
    "#importing the images as tensors. \n",
    "\n",
    "class TIFFLoader (Dataset):\n",
    "    def __init__(self, directory, transform=None):\n",
    "        self.directory = directory \n",
    "        self.transform = transform\n",
    "        self.image_paths = [os.path.join (directory, file) for file in os.listdir(directory) if file.endswith('tiff') or file.endswith('tif')]\n",
    "\n",
    "    def __len__(self):\n",
    "        return len(self.image_paths)\n",
    "    \n",
    "    def __getitem__(self,idx):\n",
    "        image_path = self.image_paths[idx]\n",
    "        with Image.open(image_path) as img:\n",
    "            if self.transform:\n",
    "                image= self.transform(img)  \n",
    "        return image"
   ]
  },
  {
   "cell_type": "code",
   "execution_count": 82,
   "metadata": {},
   "outputs": [
    {
     "name": "stdout",
     "output_type": "stream",
     "text": [
      "tensor([[[-32108, -32213, -32187,  ..., -28653, -29013, -29562],\n",
      "         [-31922, -32260, -32457,  ..., -29617, -29960, -30030],\n",
      "         [-31167, -32076, -32486,  ..., -30145, -30214, -30074],\n",
      "         ...,\n",
      "         [-30353, -30691, -30913,  ..., -22862, -22837, -22815],\n",
      "         [-29921, -30234, -30465,  ..., -23333, -22799, -22415],\n",
      "         [-29960, -30309, -30386,  ..., -24055, -23873, -23618]]],\n",
      "       dtype=torch.int16)\n",
      "tensor([[[0.5020, 0.5020, 0.5020,  ..., 0.5020, 0.5020, 0.5020],\n",
      "         [0.5020, 0.5020, 0.5020,  ..., 0.5020, 0.5020, 0.5020],\n",
      "         [0.5020, 0.5020, 0.5020,  ..., 0.5020, 0.5020, 0.5020],\n",
      "         ...,\n",
      "         [0.5020, 0.5020, 0.5020,  ..., 1.0000, 1.0000, 1.0000],\n",
      "         [0.5020, 0.5020, 0.5020,  ..., 1.0000, 1.0000, 1.0000],\n",
      "         [0.5020, 0.5020, 0.5020,  ..., 1.0000, 1.0000, 1.0000]]])\n"
     ]
    }
   ],
   "source": [
    "#update the file path given below to the ones you are using\n",
    "#make sure to use a / and not a \\ when putting yhe path\n",
    "\n",
    "\n",
    "dt1 = TIFFLoader('C:/Users/adop/OneDrive - Danmarks Tekniske Universitet/Billeder/DL/OneDrive_1_26-10-2023/data', transform=transforms.ToTensor())\n",
    "dt1.__len__()\n",
    "print(dt1.__getitem__(3))\n",
    "dt2 = TIFFLoader('C:/Users/adop/OneDrive - Danmarks Tekniske Universitet/Billeder/DL/OneDrive_1_26-10-2023/labels', transform=transforms.ToTensor())\n",
    "dt2.__len__()\n",
    "print(dt2.__getitem__(3))\n",
    "\n",
    "#plt.imshow(dt1.__getitem__(2), cmap='gray')\n",
    "#plt.show()"
   ]
  },
  {
   "cell_type": "code",
   "execution_count": 83,
   "metadata": {},
   "outputs": [],
   "source": [
    "dataloader = DataLoader(dt1, batch_size=16, shuffle=False)\n",
    "dataloader1 = DataLoader(dt2, batch_size=16, shuffle=False)\n"
   ]
  }
 ],
 "metadata": {
  "kernelspec": {
   "display_name": "Python 3",
   "language": "python",
   "name": "python3"
  },
  "language_info": {
   "codemirror_mode": {
    "name": "ipython",
    "version": 3
   },
   "file_extension": ".py",
   "mimetype": "text/x-python",
   "name": "python",
   "nbconvert_exporter": "python",
   "pygments_lexer": "ipython3",
   "version": "3.11.5"
  }
 },
 "nbformat": 4,
 "nbformat_minor": 2
}
